{
  "nbformat": 4,
  "nbformat_minor": 0,
  "metadata": {
    "colab": {
      "name": "RoundA_Q3_WorkOut.ipynb",
      "provenance": [],
      "collapsed_sections": [],
      "authorship_tag": "ABX9TyM98+4l68O9+hcemr/cEmCI",
      "include_colab_link": true
    },
    "kernelspec": {
      "name": "python3",
      "display_name": "Python 3"
    }
  },
  "cells": [
    {
      "cell_type": "markdown",
      "metadata": {
        "id": "view-in-github",
        "colab_type": "text"
      },
      "source": [
        "<a href=\"https://colab.research.google.com/github/anuragbisht12/Google-KickStart/blob/master/RoundA_Q3_WorkOut.ipynb\" target=\"_parent\"><img src=\"https://colab.research.google.com/assets/colab-badge.svg\" alt=\"Open In Colab\"/></a>"
      ]
    },
    {
      "cell_type": "code",
      "metadata": {
        "id": "p_egfpT4bQCP",
        "colab_type": "code",
        "outputId": "ea50b36c-6551-4436-9e9b-2cb4af064ee6",
        "colab": {
          "base_uri": "https://localhost:8080/",
          "height": 235
        }
      },
      "source": [
        "def solve():\n",
        "  array=[]\n",
        "  n,k= map(int,input().strip().split(\" \"))\n",
        "  array=[int(x) for i,x in enumerate(input().strip().split(\" \")) if i<n]\n",
        "  print(array)\n",
        "\n",
        "  lb,rb=1,array[n-1]-array[0]\n",
        "  while lb<rb:\n",
        "    mb=(lb+rb)//2\n",
        "    k2=0\n",
        "    for i in range(1,n):\n",
        "      d=array[i]-array[i-1]\n",
        "      k2+=(d+mb-1)//mb-1\n",
        "    if k2<=k:\n",
        "      rb=mb\n",
        "    else:\n",
        "      lb=mb+1\n",
        "  return lb\n",
        "if __name__==\"__main__\":\n",
        "  n=int(input())\n",
        "  for i in range(n):\n",
        "    print(\"Case# {}: {}\".format(i+1,solve()))"
      ],
      "execution_count": 17,
      "outputs": [
        {
          "output_type": "stream",
          "text": [
            "3\n",
            "5 2\n",
            "10 13 15 16 17\n",
            "[10, 13, 15, 16, 17]\n",
            "Case# 1: 2\n",
            "5 6\n",
            "9 10 20 26 30\n",
            "[9, 10, 20, 26, 30]\n",
            "Case# 2: 3\n",
            "8 3\n",
            "1 2 3 4 5 6 7 10\n",
            "[1, 2, 3, 4, 5, 6, 7, 10]\n",
            "Case# 3: 1\n"
          ],
          "name": "stdout"
        }
      ]
    }
  ]
}