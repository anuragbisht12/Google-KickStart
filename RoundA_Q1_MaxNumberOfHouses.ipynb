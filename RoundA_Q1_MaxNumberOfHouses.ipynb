{
  "nbformat": 4,
  "nbformat_minor": 0,
  "metadata": {
    "colab": {
      "name": "RoundA_Q1_MaxNumberOfHouses.ipynb",
      "provenance": [],
      "collapsed_sections": []
    },
    "kernelspec": {
      "name": "python3",
      "display_name": "Python 3"
    }
  },
  "cells": [
    {
      "cell_type": "code",
      "metadata": {
        "id": "9YovfaMcmAel",
        "colab_type": "code",
        "colab": {
          "base_uri": "https://localhost:8080/",
          "height": 128
        },
        "outputId": "f8c4f94b-4053-44ac-a994-046e9de159a5"
      },
      "source": [
        "if __name__==\"__main__\":\n",
        "  k=int(input())\n",
        "  b,n=input().split(\" \")\n",
        "  for in range(k):\n",
        "    \n",
        "\n",
        "\n",
        "  print(k,b,n)"
      ],
      "execution_count": 7,
      "outputs": [
        {
          "output_type": "error",
          "ename": "SyntaxError",
          "evalue": "ignored",
          "traceback": [
            "\u001b[0;36m  File \u001b[0;32m\"<ipython-input-7-2a08d4543d0d>\"\u001b[0;36m, line \u001b[0;32m4\u001b[0m\n\u001b[0;31m    for in range(k):\u001b[0m\n\u001b[0m         ^\u001b[0m\n\u001b[0;31mSyntaxError\u001b[0m\u001b[0;31m:\u001b[0m invalid syntax\n"
          ]
        }
      ]
    },
    {
      "cell_type": "code",
      "metadata": {
        "id": "aGE6uXCHnyCo",
        "colab_type": "code",
        "colab": {
          "base_uri": "https://localhost:8080/",
          "height": 84
        },
        "outputId": "61850457-a6f4-4ea2-f664-9fb8bf03758f"
      },
      "source": [
        "# O(nlogn) time | O(1) space\n",
        "def numberOfHouses(array,budget):\n",
        "  houses=array[:]\n",
        "  houses.sort()\n",
        "  count=0\n",
        "  if houses[0]>budget:\n",
        "    return 0\n",
        "  for i,val in enumerate(houses):\n",
        "    if val<=budget:\n",
        "      count+=1\n",
        "      budget-=val\n",
        "  return count\n",
        "\n",
        "if __name__==\"__main__\":\n",
        "  newlist=[]\n",
        "  for i in range(int(input())):\n",
        "    cases,budget=map(int,input().strip().split(\" \"))\n",
        "    houseprices=[int(x) for i,x in enumerate(input().strip().split(\" \")) if i<cases]\n",
        "    newlist.append(numberOfHouses(houseprices,budget))\n",
        "  for i in range(len(newlist)):\n",
        "   print(\"Case #\",i+1,\": \",newlist[i])"
      ],
      "execution_count": 30,
      "outputs": [
        {
          "output_type": "stream",
          "text": [
            "1\n",
            "1 1 \n",
            "1 1\n",
            "Case # 0 :  1\n"
          ],
          "name": "stdout"
        }
      ]
    }
  ]
}